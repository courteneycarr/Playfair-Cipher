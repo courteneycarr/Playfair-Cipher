{
 "cells": [
  {
   "cell_type": "markdown",
   "id": "e900a679",
   "metadata": {},
   "source": [
    "# Implementing a 6x6 Playfair Cipher\n",
    "##### This notebook is my attempt to make a playfair cipher capable of encoding and decoding plaintext or coded messages"
   ]
  },
  {
   "cell_type": "code",
   "execution_count": 1,
   "id": "7141a1f6",
   "metadata": {},
   "outputs": [
    {
     "name": "stdout",
     "output_type": "stream",
     "text": [
      "im trying to make a playfair cipher\n"
     ]
    }
   ],
   "source": [
    "def playfair():\n",
    "    print(\"im trying to make a playfair cipher\")\n",
    "playfair()"
   ]
  },
  {
   "cell_type": "code",
   "execution_count": 2,
   "id": "922384b3",
   "metadata": {},
   "outputs": [
    {
     "name": "stdout",
     "output_type": "stream",
     "text": [
      "im trying to make a playfair cipher\n"
     ]
    }
   ],
   "source": [
    "playfair()"
   ]
  }
 ],
 "metadata": {
  "kernelspec": {
   "display_name": "Python 3 (ipykernel)",
   "language": "python",
   "name": "python3"
  },
  "language_info": {
   "codemirror_mode": {
    "name": "ipython",
    "version": 3
   },
   "file_extension": ".py",
   "mimetype": "text/x-python",
   "name": "python",
   "nbconvert_exporter": "python",
   "pygments_lexer": "ipython3",
   "version": "3.9.13"
  }
 },
 "nbformat": 4,
 "nbformat_minor": 5
}
